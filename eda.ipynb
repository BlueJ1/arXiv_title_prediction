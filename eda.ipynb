{
 "cells": [
  {
   "cell_type": "code",
   "execution_count": 19,
   "metadata": {
    "collapsed": true,
    "ExecuteTime": {
     "end_time": "2023-05-26T14:22:42.421128Z",
     "start_time": "2023-05-26T14:22:42.417020Z"
    }
   },
   "outputs": [],
   "source": [
    "import pandas as pd\n",
    "import numpy as np\n",
    "import matplotlib.pyplot as plt\n",
    "from transformers import AutoTokenizer\n",
    "from tqdm import tqdm\n",
    "import torch"
   ]
  },
  {
   "cell_type": "code",
   "execution_count": 8,
   "outputs": [],
   "source": [
    "arxiv = pd.read_json(\"arxiv_all_data.json\", lines=True, nrows=1000000)\n",
    "arxiv[[\"title\", \"abstract\"]].to_csv(\"arxiv_first_1m.csv\")"
   ],
   "metadata": {
    "collapsed": false,
    "ExecuteTime": {
     "end_time": "2023-05-26T12:13:01.518233Z",
     "start_time": "2023-05-26T12:11:33.131618Z"
    }
   }
  },
  {
   "cell_type": "code",
   "execution_count": 9,
   "outputs": [],
   "source": [
    "arxiv = pd.read_json(\"arxiv_all_data.json\", lines=True, nrows=100000)\n",
    "arxiv[[\"title\", \"abstract\"]].to_csv(\"arxiv_first_100k.csv\")"
   ],
   "metadata": {
    "collapsed": false,
    "ExecuteTime": {
     "end_time": "2023-05-26T12:13:05.423782Z",
     "start_time": "2023-05-26T12:13:01.510786Z"
    }
   }
  },
  {
   "cell_type": "code",
   "execution_count": 3,
   "outputs": [
    {
     "data": {
      "text/plain": "         id           submitter  \\\n0  704.0001      Pavel Nadolsky   \n1  704.0002        Louis Theran   \n2  704.0003         Hongjun Pan   \n3  704.0004        David Callan   \n4  704.0005  Alberto Torchinsky   \n\n                                             authors  \\\n0  C. Bal\\'azs, E. L. Berger, P. M. Nadolsky, C.-...   \n1                    Ileana Streinu and Louis Theran   \n2                                        Hongjun Pan   \n3                                       David Callan   \n4           Wael Abu-Shammala and Alberto Torchinsky   \n\n                                               title  \\\n0  Calculation of prompt diphoton production cros...   \n1           Sparsity-certifying Graph Decompositions   \n2  The evolution of the Earth-Moon system based o...   \n3  A determinant of Stirling cycle numbers counts...   \n4  From dyadic $\\Lambda_{\\alpha}$ to $\\Lambda_{\\a...   \n\n                                  comments  \\\n0  37 pages, 15 figures; published version   \n1    To appear in Graphs and Combinatorics   \n2                      23 pages, 3 figures   \n3                                 11 pages   \n4                                     None   \n\n                                 journal-ref                         doi  \\\n0                   Phys.Rev.D76:013009,2007  10.1103/PhysRevD.76.013009   \n1                                       None                        None   \n2                                       None                        None   \n3                                       None                        None   \n4  Illinois J. Math. 52 (2008) no.2, 681-689                        None   \n\n          report-no       categories  \\\n0  ANL-HEP-PR-07-12           hep-ph   \n1              None    math.CO cs.CG   \n2              None   physics.gen-ph   \n3              None          math.CO   \n4              None  math.CA math.FA   \n\n                                             license  \\\n0                                               None   \n1  http://arxiv.org/licenses/nonexclusive-distrib...   \n2                                               None   \n3                                               None   \n4                                               None   \n\n                                            abstract  \\\n0    A fully differential calculation in perturba...   \n1    We describe a new algorithm, the $(k,\\ell)$-...   \n2    The evolution of Earth-Moon system is descri...   \n3    We show that a determinant of Stirling cycle...   \n4    In this paper we show how to compute the $\\L...   \n\n                                            versions update_date  \\\n0  [{'version': 'v1', 'created': 'Mon, 2 Apr 2007...  2008-11-26   \n1  [{'version': 'v1', 'created': 'Sat, 31 Mar 200...  2008-12-13   \n2  [{'version': 'v1', 'created': 'Sun, 1 Apr 2007...  2008-01-13   \n3  [{'version': 'v1', 'created': 'Sat, 31 Mar 200...  2007-05-23   \n4  [{'version': 'v1', 'created': 'Mon, 2 Apr 2007...  2013-10-15   \n\n                                      authors_parsed  \n0  [[Balázs, C., ], [Berger, E. L., ], [Nadolsky,...  \n1           [[Streinu, Ileana, ], [Theran, Louis, ]]  \n2                                 [[Pan, Hongjun, ]]  \n3                                [[Callan, David, ]]  \n4  [[Abu-Shammala, Wael, ], [Torchinsky, Alberto, ]]  ",
      "text/html": "<div>\n<style scoped>\n    .dataframe tbody tr th:only-of-type {\n        vertical-align: middle;\n    }\n\n    .dataframe tbody tr th {\n        vertical-align: top;\n    }\n\n    .dataframe thead th {\n        text-align: right;\n    }\n</style>\n<table border=\"1\" class=\"dataframe\">\n  <thead>\n    <tr style=\"text-align: right;\">\n      <th></th>\n      <th>id</th>\n      <th>submitter</th>\n      <th>authors</th>\n      <th>title</th>\n      <th>comments</th>\n      <th>journal-ref</th>\n      <th>doi</th>\n      <th>report-no</th>\n      <th>categories</th>\n      <th>license</th>\n      <th>abstract</th>\n      <th>versions</th>\n      <th>update_date</th>\n      <th>authors_parsed</th>\n    </tr>\n  </thead>\n  <tbody>\n    <tr>\n      <th>0</th>\n      <td>704.0001</td>\n      <td>Pavel Nadolsky</td>\n      <td>C. Bal\\'azs, E. L. Berger, P. M. Nadolsky, C.-...</td>\n      <td>Calculation of prompt diphoton production cros...</td>\n      <td>37 pages, 15 figures; published version</td>\n      <td>Phys.Rev.D76:013009,2007</td>\n      <td>10.1103/PhysRevD.76.013009</td>\n      <td>ANL-HEP-PR-07-12</td>\n      <td>hep-ph</td>\n      <td>None</td>\n      <td>A fully differential calculation in perturba...</td>\n      <td>[{'version': 'v1', 'created': 'Mon, 2 Apr 2007...</td>\n      <td>2008-11-26</td>\n      <td>[[Balázs, C., ], [Berger, E. L., ], [Nadolsky,...</td>\n    </tr>\n    <tr>\n      <th>1</th>\n      <td>704.0002</td>\n      <td>Louis Theran</td>\n      <td>Ileana Streinu and Louis Theran</td>\n      <td>Sparsity-certifying Graph Decompositions</td>\n      <td>To appear in Graphs and Combinatorics</td>\n      <td>None</td>\n      <td>None</td>\n      <td>None</td>\n      <td>math.CO cs.CG</td>\n      <td>http://arxiv.org/licenses/nonexclusive-distrib...</td>\n      <td>We describe a new algorithm, the $(k,\\ell)$-...</td>\n      <td>[{'version': 'v1', 'created': 'Sat, 31 Mar 200...</td>\n      <td>2008-12-13</td>\n      <td>[[Streinu, Ileana, ], [Theran, Louis, ]]</td>\n    </tr>\n    <tr>\n      <th>2</th>\n      <td>704.0003</td>\n      <td>Hongjun Pan</td>\n      <td>Hongjun Pan</td>\n      <td>The evolution of the Earth-Moon system based o...</td>\n      <td>23 pages, 3 figures</td>\n      <td>None</td>\n      <td>None</td>\n      <td>None</td>\n      <td>physics.gen-ph</td>\n      <td>None</td>\n      <td>The evolution of Earth-Moon system is descri...</td>\n      <td>[{'version': 'v1', 'created': 'Sun, 1 Apr 2007...</td>\n      <td>2008-01-13</td>\n      <td>[[Pan, Hongjun, ]]</td>\n    </tr>\n    <tr>\n      <th>3</th>\n      <td>704.0004</td>\n      <td>David Callan</td>\n      <td>David Callan</td>\n      <td>A determinant of Stirling cycle numbers counts...</td>\n      <td>11 pages</td>\n      <td>None</td>\n      <td>None</td>\n      <td>None</td>\n      <td>math.CO</td>\n      <td>None</td>\n      <td>We show that a determinant of Stirling cycle...</td>\n      <td>[{'version': 'v1', 'created': 'Sat, 31 Mar 200...</td>\n      <td>2007-05-23</td>\n      <td>[[Callan, David, ]]</td>\n    </tr>\n    <tr>\n      <th>4</th>\n      <td>704.0005</td>\n      <td>Alberto Torchinsky</td>\n      <td>Wael Abu-Shammala and Alberto Torchinsky</td>\n      <td>From dyadic $\\Lambda_{\\alpha}$ to $\\Lambda_{\\a...</td>\n      <td>None</td>\n      <td>Illinois J. Math. 52 (2008) no.2, 681-689</td>\n      <td>None</td>\n      <td>None</td>\n      <td>math.CA math.FA</td>\n      <td>None</td>\n      <td>In this paper we show how to compute the $\\L...</td>\n      <td>[{'version': 'v1', 'created': 'Mon, 2 Apr 2007...</td>\n      <td>2013-10-15</td>\n      <td>[[Abu-Shammala, Wael, ], [Torchinsky, Alberto, ]]</td>\n    </tr>\n  </tbody>\n</table>\n</div>"
     },
     "execution_count": 3,
     "metadata": {},
     "output_type": "execute_result"
    }
   ],
   "source": [
    "arxiv[:5]"
   ],
   "metadata": {
    "collapsed": false,
    "ExecuteTime": {
     "end_time": "2023-05-26T11:02:03.890425Z",
     "start_time": "2023-05-26T11:02:03.877980Z"
    }
   }
  },
  {
   "cell_type": "code",
   "execution_count": 3,
   "outputs": [
    {
     "name": "stderr",
     "output_type": "stream",
     "text": [
      "23it [00:54,  2.37s/it]\n"
     ]
    }
   ],
   "source": [
    "chunks = []\n",
    "for chunk in tqdm(pd.read_json(\"arxiv_all_data.json\", lines=True, chunksize=100000)):\n",
    "    chunks.append(chunk[[\"title\", \"abstract\"]])"
   ],
   "metadata": {
    "collapsed": false,
    "ExecuteTime": {
     "end_time": "2023-05-26T14:09:26.993929Z",
     "start_time": "2023-05-26T14:08:32.570423Z"
    }
   }
  },
  {
   "cell_type": "code",
   "execution_count": 4,
   "outputs": [
    {
     "name": "stdout",
     "output_type": "stream",
     "text": [
      "(2258347, 2)\n"
     ]
    }
   ],
   "source": [
    "arxiv_all = pd.concat(chunks)\n",
    "print(arxiv_all.shape)"
   ],
   "metadata": {
    "collapsed": false,
    "ExecuteTime": {
     "end_time": "2023-05-26T14:09:27.036172Z",
     "start_time": "2023-05-26T14:09:27.033364Z"
    }
   }
  },
  {
   "cell_type": "code",
   "execution_count": 6,
   "outputs": [],
   "source": [
    "arxiv_all.to_csv(\"arxiv_all.csv\")"
   ],
   "metadata": {
    "collapsed": false,
    "ExecuteTime": {
     "end_time": "2023-05-26T14:13:20.889970Z",
     "start_time": "2023-05-26T14:12:48.880520Z"
    }
   }
  },
  {
   "cell_type": "code",
   "execution_count": null,
   "outputs": [],
   "source": [
    "arxiv_first_100k = pd.read_csv(\"arxiv_first_100k.csv\")"
   ],
   "metadata": {
    "collapsed": false
   }
  },
  {
   "cell_type": "code",
   "execution_count": 11,
   "outputs": [],
   "source": [
    "tokenizer = AutoTokenizer.from_pretrained('intfloat/e5-base-v2')\n",
    "title_batch_dict = tokenizer(arxiv_first_100k[\"title\"].tolist(), max_length=512, padding=True, truncation=True, return_tensors='pt')"
   ],
   "metadata": {
    "collapsed": false,
    "ExecuteTime": {
     "end_time": "2023-05-26T14:17:55.505293Z",
     "start_time": "2023-05-26T14:17:48.512032Z"
    }
   }
  },
  {
   "cell_type": "code",
   "execution_count": 35,
   "outputs": [],
   "source": [
    "abstract_batch_dict = tokenizer(arxiv_first_100k[\"abstract\"].tolist(), max_length=512, padding=True, truncation=True, return_tensors='pt')"
   ],
   "metadata": {
    "collapsed": false,
    "ExecuteTime": {
     "end_time": "2023-05-26T14:27:09.913247Z",
     "start_time": "2023-05-26T14:26:42.355707Z"
    }
   }
  },
  {
   "cell_type": "code",
   "execution_count": 13,
   "outputs": [],
   "source": [
    "arxiv_all = pd.read_csv(\"arxiv_all.csv\")"
   ],
   "metadata": {
    "collapsed": false,
    "ExecuteTime": {
     "end_time": "2023-05-26T14:19:03.126065Z",
     "start_time": "2023-05-26T14:18:42.103662Z"
    }
   }
  },
  {
   "cell_type": "code",
   "execution_count": 33,
   "outputs": [],
   "source": [
    "title_token_occurrences = torch.sum(title_batch_dict[\"attention_mask\"], dim=1).numpy()"
   ],
   "metadata": {
    "collapsed": false,
    "ExecuteTime": {
     "end_time": "2023-05-26T14:25:27.111594Z",
     "start_time": "2023-05-26T14:25:27.103129Z"
    }
   }
  },
  {
   "cell_type": "code",
   "execution_count": 42,
   "outputs": [
    {
     "data": {
      "text/plain": "94594"
     },
     "execution_count": 42,
     "metadata": {},
     "output_type": "execute_result"
    }
   ],
   "source": [
    "np.sum(np.logical_and(title_token_occurrences > 5, title_token_occurrences < 30))"
   ],
   "metadata": {
    "collapsed": false,
    "ExecuteTime": {
     "end_time": "2023-05-26T14:29:33.830174Z",
     "start_time": "2023-05-26T14:29:33.825631Z"
    }
   }
  },
  {
   "cell_type": "code",
   "execution_count": 34,
   "outputs": [
    {
     "name": "stdout",
     "output_type": "stream",
     "text": [
      "min: 3, max: 103, mean: 17.05658, median: 16.0\n"
     ]
    },
    {
     "data": {
      "text/plain": "<Figure size 640x480 with 1 Axes>",
      "image/png": "[encoded data removed]"
     },
     "metadata": {},
     "output_type": "display_data"
    }
   ],
   "source": [
    "print(f'min: {np.min(title_token_occurrences)}, max: {np.max(title_token_occurrences)}, mean: {np.mean(title_token_occurrences)}, median: {np.median(title_token_occurrences)}')\n",
    "token_occurrences_dict = {}\n",
    "for token_occurrence in title_token_occurrences:\n",
    "    cluster_size = 1\n",
    "    token_occurrence //= cluster_size\n",
    "    token_occurrence *= cluster_size\n",
    "    if token_occurrence in token_occurrences_dict:\n",
    "        token_occurrences_dict[token_occurrence] += 1\n",
    "    else:\n",
    "        token_occurrences_dict[token_occurrence] = 1\n",
    "sorted_by_key = sorted(token_occurrences_dict.items(), key=lambda x: x[0])\n",
    "keys_sorted = [key for key, _ in sorted_by_key]\n",
    "values_sorted_by_key = [val for _, val in sorted_by_key]\n",
    "plt.bar(keys_sorted, values_sorted_by_key)\n",
    "plt.show()"
   ],
   "metadata": {
    "collapsed": false,
    "ExecuteTime": {
     "end_time": "2023-05-26T14:25:27.906124Z",
     "start_time": "2023-05-26T14:25:27.798295Z"
    }
   }
  },
  {
   "cell_type": "code",
   "execution_count": 36,
   "outputs": [],
   "source": [
    "abstract_token_occurrences = torch.sum(abstract_batch_dict[\"attention_mask\"], dim=1).numpy()"
   ],
   "metadata": {
    "collapsed": false,
    "ExecuteTime": {
     "end_time": "2023-05-26T14:27:09.921508Z",
     "start_time": "2023-05-26T14:27:09.912083Z"
    }
   }
  },
  {
   "cell_type": "code",
   "execution_count": 45,
   "outputs": [
    {
     "data": {
      "text/plain": "58685"
     },
     "execution_count": 45,
     "metadata": {},
     "output_type": "execute_result"
    }
   ],
   "source": [
    "np.sum(np.logical_and(abstract_token_occurrences > 100, abstract_token_occurrences < 250))"
   ],
   "metadata": {
    "collapsed": false,
    "ExecuteTime": {
     "end_time": "2023-05-26T14:34:47.278960Z",
     "start_time": "2023-05-26T14:34:47.273833Z"
    }
   }
  },
  {
   "cell_type": "code",
   "execution_count": 37,
   "outputs": [
    {
     "name": "stdout",
     "output_type": "stream",
     "text": [
      "min: 5, max: 512, mean: 177.19479, median: 158.0\n"
     ]
    },
    {
     "data": {
      "text/plain": "<Figure size 640x480 with 1 Axes>",
      "image/png": "[encoded data removed]"
     },
     "metadata": {},
     "output_type": "display_data"
    }
   ],
   "source": [
    "print(f'min: {np.min(abstract_token_occurrences)}, max: {np.max(abstract_token_occurrences)}, mean: {np.mean(abstract_token_occurrences)}, median: {np.median(abstract_token_occurrences)}')\n",
    "token_occurrences_dict = {}\n",
    "for token_occurrence in abstract_token_occurrences:\n",
    "    cluster_size = 1\n",
    "    token_occurrence //= cluster_size\n",
    "    token_occurrence *= cluster_size\n",
    "    if token_occurrence in token_occurrences_dict:\n",
    "        token_occurrences_dict[token_occurrence] += 1\n",
    "    else:\n",
    "        token_occurrences_dict[token_occurrence] = 1\n",
    "sorted_by_key = sorted(token_occurrences_dict.items(), key=lambda x: x[0])\n",
    "keys_sorted = [key for key, _ in sorted_by_key]\n",
    "values_sorted_by_key = [val for _, val in sorted_by_key]\n",
    "plt.bar(keys_sorted, values_sorted_by_key)\n",
    "plt.show()"
   ],
   "metadata": {
    "collapsed": false,
    "ExecuteTime": {
     "end_time": "2023-05-26T14:27:10.156123Z",
     "start_time": "2023-05-26T14:27:09.923574Z"
    }
   }
  },
  {
   "cell_type": "code",
   "execution_count": 50,
   "outputs": [
    {
     "data": {
      "text/plain": "43915"
     },
     "execution_count": 50,
     "metadata": {},
     "output_type": "execute_result"
    }
   ],
   "source": [
    "np.sum(np.logical_and(np.logical_and(title_token_occurrences > 10, title_token_occurrences < 30), np.logical_and(abstract_token_occurrences > 100, abstract_token_occurrences < 250)))"
   ],
   "metadata": {
    "collapsed": false,
    "ExecuteTime": {
     "end_time": "2023-05-27T07:23:44.354139Z",
     "start_time": "2023-05-27T07:23:44.351532Z"
    }
   }
  },
  {
   "cell_type": "code",
   "execution_count": null,
   "outputs": [],
   "source": [],
   "metadata": {
    "collapsed": false
   }
  }
 ],
 "metadata": {
  "kernelspec": {
   "display_name": "Python 3",
   "language": "python",
   "name": "python3"
  },
  "language_info": {
   "codemirror_mode": {
    "name": "ipython",
    "version": 2
   },
   "file_extension": ".py",
   "mimetype": "text/x-python",
   "name": "python",
   "nbconvert_exporter": "python",
   "pygments_lexer": "ipython2",
   "version": "2.7.6"
  }
 },
 "nbformat": 4,
 "nbformat_minor": 0
}
